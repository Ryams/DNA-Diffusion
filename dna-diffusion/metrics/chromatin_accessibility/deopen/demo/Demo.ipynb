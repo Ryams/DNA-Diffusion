{
 "cells": [
  {
   "cell_type": "markdown",
   "metadata": {},
   "source": [
    "This is a demo to run Deopen"
   ]
  },
  {
   "cell_type": "code",
   "execution_count": 1,
   "metadata": {},
   "outputs": [
    {
     "name": "stdout",
     "output_type": "stream",
     "text": [
      "10000 ./Deopen/demo/positive.bed\n",
      "chr1\t9995\t10995\tid1\t1\t+\t.\n",
      "chr1\t564753\t565753\tid2\t1\t+\t.\n",
      "chr1\t565935\t566935\tid3\t1\t+\t.\n",
      "chr1\t567904\t568904\tid4\t1\t+\t.\n",
      "chr1\t569403\t570403\tid5\t1\t+\t.\n",
      "10000 ./Deopen/demo/positive.bed\n",
      "chr1\t100783702\t100784702\tid2\t1\t+\t.\n",
      "chr1\t121471114\t121472114\tid3\t1\t+\t.\n",
      "chr1\t219901357\t219902357\tid4\t1\t+\t.\n",
      "chr1\t26268350\t26269350\tid5\t1\t+\t.\n",
      "chr1\t190807427\t190808427\tid6\t1\t+\t.\n"
     ]
    }
   ],
   "source": [
    "#glance at original data (bed format) \n",
    "!wc -l ./Deopen/demo/positive.bed\n",
    "! head -n 5 ./Deopen/demo/positive.bed\n",
    "!wc -l ./Deopen/demo/positive.bed\n",
    "! head -n 5 ./Deopen/demo/negative.bed"
   ]
  },
  {
   "cell_type": "code",
   "execution_count": 2,
   "metadata": {},
   "outputs": [
    {
     "name": "stdout",
     "output_type": "stream",
     "text": [
      "Training data generation is finished!\r\n"
     ]
    }
   ],
   "source": [
    "#generate date for model training \n",
    "! python ./Deopen/src/Gen_data.py -pos ./Deopen/demo/positive.bed -neg ./Deopen/demo/negative.bed -genome ./genome.fa -out ./Deopen/demo/preprocessd_data.hkl       "
   ]
  },
  {
   "cell_type": "code",
   "execution_count": 3,
   "metadata": {},
   "outputs": [
    {
     "data": {
      "text/plain": [
       "['y', 'spot', 'kmer', 'seq', 'mat']"
      ]
     },
     "execution_count": 3,
     "metadata": {},
     "output_type": "execute_result"
    }
   ],
   "source": [
    "#glance at the preprocessed data(including label, one-hot coding matrix, kmer features, etc)\n",
    "import hickle as hkl\n",
    "data = hkl.load('./Deopen/demo/preprocessd_data.hkl')\n",
    "data.keys()"
   ]
  },
  {
   "cell_type": "code",
   "execution_count": 4,
   "metadata": {},
   "outputs": [
    {
     "name": "stdout",
     "output_type": "stream",
     "text": [
      "Using gpu device 0: Tesla K80 (CNMeM is enabled with initial size: 90.0% of memory, cuDNN 5110)\n",
      "/opt/anaconda2/lib/python2.7/site-packages/theano/sandbox/cuda/__init__.py:600: UserWarning: Your cuDNN version is more recent than the one Theano officially supports. If you see any problems, try updating Theano or downgrading cuDNN to version 5.\n",
      "  warnings.warn(warn)\n",
      "/opt/anaconda2/lib/python2.7/site-packages/theano/tensor/signal/downsample.py:6: UserWarning: downsample module has been moved to the theano.tensor.signal.pool module.\n",
      "  \"downsample module has been moved to the theano.tensor.signal.pool module.\")\n",
      "Using Lasagne.layers.dnn (faster)\n",
      "Initializing weights (1/5) ...\n",
      "Initializing weights (2/5) ...\n",
      "Initializing weights (3/5) ...\n",
      "Initializing weights (4/5) ...\n",
      "Initializing weights (5/5) ...\n",
      "Loading pre-training weights...\n",
      "Loaded parameters to layer 'conv2ddnn2' (shape 128x1x4x13).\n",
      "Loaded parameters to layer 'conv2ddnn2' (shape 128).\n",
      "Loaded parameters to layer 'conv2ddnn3' (shape 128x128x1x13).\n",
      "Loaded parameters to layer 'conv2ddnn3' (shape 128).\n",
      "Loaded parameters to layer 'conv2ddnn4' (shape 128x128x1x13).\n",
      "Loaded parameters to layer 'conv2ddnn4' (shape 128).\n",
      "Loaded parameters to layer 'conv2ddnn6' (shape 128x128x1x7).\n",
      "Loaded parameters to layer 'conv2ddnn6' (shape 128).\n",
      "Loaded parameters to layer 'conv2ddnn7' (shape 128x128x1x7).\n",
      "Loaded parameters to layer 'conv2ddnn7' (shape 128).\n",
      "Loaded parameters to layer 'conv2ddnn8' (shape 128x128x1x7).\n",
      "Loaded parameters to layer 'conv2ddnn8' (shape 128).\n",
      "Loaded parameters to layer 'conv2ddnn10' (shape 128x128x1x5).\n",
      "Loaded parameters to layer 'conv2ddnn10' (shape 128).\n",
      "Loaded parameters to layer 'conv2ddnn11' (shape 128x128x1x5).\n",
      "Loaded parameters to layer 'conv2ddnn11' (shape 128).\n",
      "Loaded parameters to layer 'conv2ddnn12' (shape 128x128x1x5).\n",
      "Loaded parameters to layer 'conv2ddnn12' (shape 128).\n",
      "Loaded parameters to layer 'dense14' (shape 512x256).\n",
      "Loaded parameters to layer 'dense14' (shape 256).\n",
      "Loaded parameters to layer 'dense18' (shape 4096x128).\n",
      "Loaded parameters to layer 'dense18' (shape 128).\n",
      "Loaded parameters to layer 'dense21' (shape 384x256).\n",
      "Loaded parameters to layer 'dense21' (shape 256).\n",
      "Loaded parameters to layer 'dense22' (shape 256x2).\n",
      "Loaded parameters to layer 'dense22' (shape 2).\n",
      "Continue to train...\n",
      "# Neural Network with 1778434 learnable parameters\n",
      "\n",
      "## Layer information\n",
      "\n",
      "  #    name  size\n",
      "---  ------  ---------\n",
      "  0          1x4x2024\n",
      "  1          1x4x1000\n",
      "  2          128x1x988\n",
      "  3          128x1x976\n",
      "  4          128x1x964\n",
      "  5          128x1x192\n",
      "  6          128x1x186\n",
      "  7          128x1x180\n",
      "  8          128x1x174\n",
      "  9          128x1x34\n",
      " 10          128x1x30\n",
      " 11          128x1x26\n",
      " 12          128x1x22\n",
      " 13          128x1x4\n",
      " 14          256\n",
      " 15          1x4x1024\n",
      " 16          1x4x1024\n",
      " 17          4096\n",
      " 18          128\n",
      " 19          384\n",
      " 20          384\n",
      " 21          256\n",
      " 22          2\n",
      "\n",
      "  epoch    trn loss    val loss    trn/val    valid acc  dur\n",
      "-------  ----------  ----------  ---------  -----------  ------\n",
      "      1     \u001b[36m0.20303\u001b[0m     \u001b[32m0.25412\u001b[0m    0.79896      0.90061  38.53s\n",
      "      2     \u001b[36m0.17277\u001b[0m     0.25786    0.67001      0.90061  38.49s\n",
      "      3     \u001b[36m0.13865\u001b[0m     0.28575    0.48522      0.89395  38.89s\n",
      "      4     \u001b[36m0.10612\u001b[0m     0.31969    0.33194      0.89728  38.60s\n",
      "      5     \u001b[36m0.07984\u001b[0m     0.36698    0.21757      0.90006  38.61s\n",
      "      6     \u001b[36m0.05715\u001b[0m     0.41298    0.13838      0.89617  38.60s\n",
      "Early stopping.\n",
      "Best valid loss was 0.254116 at epoch 1.\n",
      "Loaded parameters to layer 'conv2ddnn2' (shape 128x1x4x13).\n",
      "Loaded parameters to layer 'conv2ddnn2' (shape 128).\n",
      "Loaded parameters to layer 'conv2ddnn3' (shape 128x128x1x13).\n",
      "Loaded parameters to layer 'conv2ddnn3' (shape 128).\n",
      "Loaded parameters to layer 'conv2ddnn4' (shape 128x128x1x13).\n",
      "Loaded parameters to layer 'conv2ddnn4' (shape 128).\n",
      "Loaded parameters to layer 'conv2ddnn6' (shape 128x128x1x7).\n",
      "Loaded parameters to layer 'conv2ddnn6' (shape 128).\n",
      "Loaded parameters to layer 'conv2ddnn7' (shape 128x128x1x7).\n",
      "Loaded parameters to layer 'conv2ddnn7' (shape 128).\n",
      "Loaded parameters to layer 'conv2ddnn8' (shape 128x128x1x7).\n",
      "Loaded parameters to layer 'conv2ddnn8' (shape 128).\n",
      "Loaded parameters to layer 'conv2ddnn10' (shape 128x128x1x5).\n",
      "Loaded parameters to layer 'conv2ddnn10' (shape 128).\n",
      "Loaded parameters to layer 'conv2ddnn11' (shape 128x128x1x5).\n",
      "Loaded parameters to layer 'conv2ddnn11' (shape 128).\n",
      "Loaded parameters to layer 'conv2ddnn12' (shape 128x128x1x5).\n",
      "Loaded parameters to layer 'conv2ddnn12' (shape 128).\n",
      "Loaded parameters to layer 'dense14' (shape 512x256).\n",
      "Loaded parameters to layer 'dense14' (shape 256).\n",
      "Loaded parameters to layer 'dense18' (shape 4096x128).\n",
      "Loaded parameters to layer 'dense18' (shape 128).\n",
      "Loaded parameters to layer 'dense21' (shape 384x256).\n",
      "Loaded parameters to layer 'dense21' (shape 256).\n",
      "Loaded parameters to layer 'dense22' (shape 256x2).\n",
      "Loaded parameters to layer 'dense22' (shape 2).\n",
      "Model training finished.\n",
      "Accuracy score is 0.9075\n",
      "ROC AUC score is 0.966586412415\n"
     ]
    }
   ],
   "source": [
    "#perform classification experiment\n",
    "! THEANO_FLAGS='device=gpu,floatX=float32' python ./Deopen/src/Deopen_classification.py -in ./Deopen/demo/preprocessd_data.hkl -out ./Deopen/demo/Deopen_pre.hkl     "
   ]
  },
  {
   "cell_type": "code",
   "execution_count": 5,
   "metadata": {},
   "outputs": [
    {
     "data": {
      "text/plain": [
       "[<matplotlib.lines.Line2D at 0x7f7266234b90>]"
      ]
     },
     "execution_count": 5,
     "metadata": {},
     "output_type": "execute_result"
    },
    {
     "data": {
      "text/plain": [
       "<matplotlib.legend.Legend at 0x7f728efa2650>"
      ]
     },
     "execution_count": 5,
     "metadata": {},
     "output_type": "execute_result"
    },
    {
     "data": {
      "image/png": "[encoded data removed]",
      "text/plain": [
       "<matplotlib.figure.Figure at 0x7f726d1c9dd0>"
      ]
     },
     "metadata": {},
     "output_type": "display_data"
    }
   ],
   "source": [
    "#evaluate performance using ROC curve\n",
    "import hickle as hkl\n",
    "import matplotlib.pyplot as plt\n",
    "from sklearn import metrics\n",
    "from sklearn.metrics import precision_recall_curve\n",
    "[y_prob,y_test] = hkl.load('./Deopen/demo/Deopen_pre.hkl')\n",
    "AUC = metrics.roc_auc_score(y_test, y_prob)\n",
    "fpr, tpr, thresholds = metrics.roc_curve(y_test, y_prob)\n",
    "precision, recall, thresholds = precision_recall_curve(y_test, y_prob)\n",
    "plt.plot(fpr,tpr,label='AUC=%1.3f'%AUC)\n",
    "plt.legend(loc=4) \n",
    "plt.show()"
   ]
  },
  {
   "cell_type": "code",
   "execution_count": null,
   "metadata": {
    "collapsed": true
   },
   "outputs": [],
   "source": []
  }
 ],
 "metadata": {
  "kernelspec": {
   "display_name": "Python [default]",
   "language": "python",
   "name": "python2"
  },
  "language_info": {
   "codemirror_mode": {
    "name": "ipython",
    "version": 2
   },
   "file_extension": ".py",
   "mimetype": "text/x-python",
   "name": "python",
   "nbconvert_exporter": "python",
   "pygments_lexer": "ipython2",
   "version": "2.7.12"
  }
 },
 "nbformat": 4,
 "nbformat_minor": 1
}
