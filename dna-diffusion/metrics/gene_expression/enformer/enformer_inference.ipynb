{
  "nbformat": 4,
  "nbformat_minor": 0,
  "metadata": {
    "colab": {
      "provenance": [],
      "authorship_tag": "ABX9TyOT2YGxjLNXhpFbw1dzjmJ8",
      "include_colab_link": true
    },
    "kernelspec": {
      "name": "python3",
      "display_name": "Python 3"
    },
    "language_info": {
      "name": "python"
    }
  },
  "cells": [
    {
      "cell_type": "markdown",
      "metadata": {
        "id": "view-in-github",
        "colab_type": "text"
      },
      "source": [
        "<a href=\"https://colab.research.google.com/github/pinellolab/DNA-Diffusion/blob/enformer-implementation/dna-diffusion/metrics/gene_expression/enformer/enformer_inference.ipynb\" target=\"_parent\"><img src=\"https://colab.research.google.com/assets/colab-badge.svg\" alt=\"Open In Colab\"/></a>"
      ]
    },
    {
      "cell_type": "code",
      "execution_count": 52,
      "metadata": {
        "id": "I18uA7c2q17W",
        "colab": {
          "base_uri": "https://localhost:8080/"
        },
        "outputId": "c93ab2b1-545c-4bb6-ad2a-136d64ae4acb"
      },
      "outputs": [
        {
          "output_type": "stream",
          "name": "stdout",
          "text": [
            "Drive already mounted at /content/gdrive/; to attempt to forcibly remount, call drive.mount(\"/content/gdrive/\", force_remount=True).\n"
          ]
        }
      ],
      "source": [
        "from google.colab import drive\n",
        "drive.mount('/content/gdrive/')\n"
      ]
    },
    {
      "cell_type": "code",
      "source": [
        "setup = True\n",
        "\n",
        "if setup:\n",
        "  %pip install transformers\n",
        "  %pip install einops \n",
        "  %pip install polars\n",
        "  %pip install pyfaidx\n",
        "  %pip install mygene\n",
        "  %apt-get install bedtools\n",
        "  %pip install pybedtools\n",
        "  %pip install biopython"
      ],
      "metadata": {
        "colab": {
          "base_uri": "https://localhost:8080/"
        },
        "id": "ZCAA-1Dx5atV",
        "outputId": "d05f0385-ee71-475b-d878-e43e91e1f04a"
      },
      "execution_count": 62,
      "outputs": [
        {
          "output_type": "stream",
          "name": "stdout",
          "text": [
            "Looking in indexes: https://pypi.org/simple, https://us-python.pkg.dev/colab-wheels/public/simple/\n",
            "Collecting biopython\n",
            "  Downloading biopython-1.80-cp38-cp38-manylinux_2_17_x86_64.manylinux2014_x86_64.whl (3.1 MB)\n",
            "\u001b[K     |████████████████████████████████| 3.1 MB 7.7 MB/s \n",
            "\u001b[?25hRequirement already satisfied: numpy in /usr/local/lib/python3.8/dist-packages (from biopython) (1.21.6)\n",
            "Installing collected packages: biopython\n",
            "Successfully installed biopython-1.80\n"
          ]
        }
      ]
    },
    {
      "cell_type": "code",
      "source": [
        "import os \n",
        "import pandas as pd \n",
        "import torch\n",
        "\n",
        "ROOT_DIR = '/content/gdrive/MyDrive/'\n",
        "PROJ_DIR = 'Colab Notebooks/dna-diffusion/metrics/gene_expression/enformer/'\n",
        "SUB_DIR = 'enformer_lucidrains_pytorch/'\n",
        "\n",
        "os.chdir(ROOT_DIR + PROJ_DIR + SUB_DIR)\n",
        "from enformer_pytorch import Enformer\n",
        "\n",
        "os.chdir(ROOT_DIR + PROJ_DIR)\n",
        "from dataloader import EnformerDataLoader"
      ],
      "metadata": {
        "id": "H28e39nq7Mc_"
      },
      "execution_count": 63,
      "outputs": []
    }
  ]
}